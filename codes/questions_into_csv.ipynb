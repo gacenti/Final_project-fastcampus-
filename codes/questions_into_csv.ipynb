{
 "cells": [
  {
   "cell_type": "code",
   "execution_count": null,
   "metadata": {},
   "outputs": [],
   "source": [
    "import pandas as pd\n",
    "\n",
    "# Read Excel file\n",
    "excel_file = '/home/fastcampus/Gasan/월간 지표분석 질문들 정리.xlsx' \n",
    "sheet_name = 'Sheet1'  \n",
    "\n",
    "df = pd.read_excel(excel_file, sheet_name=sheet_name)\n",
    "\n",
    "# Select specific columns\n",
    "selected_columns = []  # Replace with the names of the columns you want to export\n",
    "df_selected = df[selected_columns]\n",
    "\n",
    "# Save as CSV\n",
    "csv_file = 'output.csv'  # Replace with the desired output CSV file path\n",
    "df_selected.to_csv(csv_file, index=False)"
   ]
  }
 ],
 "metadata": {
  "language_info": {
   "name": "python"
  },
  "orig_nbformat": 4
 },
 "nbformat": 4,
 "nbformat_minor": 2
}
