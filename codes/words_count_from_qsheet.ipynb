{
 "cells": [
  {
   "cell_type": "code",
   "execution_count": 1,
   "metadata": {},
   "outputs": [],
   "source": [
    "import pandas as pd\n",
    "from collections import Counter\n",
    "import re\n",
    "\n",
    "import nltk\n",
    "from nltk.corpus import stopwords\n",
    "\n",
    "nltk.download('stopwords')"
   ]
  },
  {
   "cell_type": "code",
   "execution_count": 2,
   "metadata": {},
   "outputs": [],
   "source": [
    "df = pd.read_excel('/home/fastcampus/Gasan/csv/월간 지표분석 질문들 정리.xlsx')"
   ]
  },
  {
   "cell_type": "code",
   "execution_count": 3,
   "metadata": {},
   "outputs": [],
   "source": [
    "text = ' '.join(df['질문'].astype(str))"
   ]
  },
  {
   "cell_type": "code",
   "execution_count": 4,
   "metadata": {},
   "outputs": [],
   "source": [
    "text = re.sub('[^\\w\\s]', '', text)"
   ]
  },
  {
   "cell_type": "code",
   "execution_count": 5,
   "metadata": {},
   "outputs": [],
   "source": [
    "words = text.lower().split()"
   ]
  },
  {
   "cell_type": "code",
   "execution_count": 6,
   "metadata": {},
   "outputs": [],
   "source": [
    "word_counts = Counter(words)"
   ]
  },
  {
   "cell_type": "code",
   "execution_count": 9,
   "metadata": {},
   "outputs": [],
   "source": [
    "most_common_words = word_counts.most_common(50)"
   ]
  },
  {
   "cell_type": "code",
   "execution_count": 10,
   "metadata": {},
   "outputs": [
    {
     "name": "stdout",
     "output_type": "stream",
     "text": [
      "부탁드립니다: 649\n",
      "어떻게: 545\n",
      "어떤: 490\n",
      "비급여: 378\n",
      "질문1: 327\n",
      "공유: 249\n",
      "무엇인가요: 215\n",
      "매출: 200\n",
      "대한: 198\n",
      "질문2: 177\n",
      "위한: 173\n",
      "말씀: 170\n",
      "보고: 158\n",
      "궁금합니다: 156\n",
      "매출이: 155\n",
      "다이어트: 143\n",
      "원내: 142\n",
      "수: 141\n",
      "이벤트: 139\n",
      "이번달: 133\n",
      "있을까요: 125\n",
      "요인: 122\n",
      "좀: 117\n",
      "중: 115\n",
      "대해: 111\n",
      "계신가요: 104\n",
      "이후: 102\n",
      "한번: 102\n",
      "직원: 101\n",
      "전략: 100\n",
      "환자: 97\n",
      "무엇일까요: 96\n",
      "한약: 94\n",
      "말씀부탁드립니다: 92\n",
      "상세: 89\n",
      "인사이트: 89\n",
      "소개: 88\n",
      "더: 88\n",
      "있습니다: 86\n",
      "뭘까요: 85\n",
      "계실까요: 84\n",
      "위해: 83\n",
      "것: 83\n",
      "요인이: 83\n",
      "현재: 81\n",
      "대비: 79\n",
      "있으실까요: 79\n",
      "계세요: 75\n",
      "답변: 74\n",
      "부분이: 74\n"
     ]
    }
   ],
   "source": [
    "for word, count in most_common_words:\n",
    "    print(f'{word}: {count}')"
   ]
  }
 ],
 "metadata": {
  "kernelspec": {
   "display_name": "Python 3",
   "language": "python",
   "name": "python3"
  },
  "language_info": {
   "codemirror_mode": {
    "name": "ipython",
    "version": 3
   },
   "file_extension": ".py",
   "mimetype": "text/x-python",
   "name": "python",
   "nbconvert_exporter": "python",
   "pygments_lexer": "ipython3",
   "version": "3.10.6"
  },
  "orig_nbformat": 4
 },
 "nbformat": 4,
 "nbformat_minor": 2
}
